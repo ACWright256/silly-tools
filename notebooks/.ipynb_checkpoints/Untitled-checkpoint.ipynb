{
 "cells": [
  {
   "cell_type": "code",
   "execution_count": null,
   "id": "d7d6945a-4092-4551-b355-a9c4ae44d190",
   "metadata": {},
   "outputs": [],
   "source": [
    "import sys\n",
    "#from scapy.all import sr1, IP, ICMP, UDP, Ether\n",
    "from scapy.all import *"
   ]
  },
  {
   "cell_type": "code",
   "execution_count": null,
   "id": "994a4a97-be47-4c61-9e49-f4da0241900e",
   "metadata": {},
   "outputs": [],
   "source": [
    "#CONSTANTS\n",
    "#ether layer\n",
    "src_mac=\"fe:ed:da:ba:bb:11\"\n",
    "dest_mac=\"9e:b6:3b:20:aa:78\"\n",
    "\n",
    "#ip layer\n",
    "spoof_src_ip=\"192.168.1.255\"\n",
    "spoof_target=\"192.168.1.196\"\n",
    "\n",
    "#udp layer\n",
    "sport=137\n",
    "dport=137"
   ]
  },
  {
   "cell_type": "code",
   "execution_count": null,
   "id": "667668da-32e7-4fcb-b37d-7fd1dc6593a6",
   "metadata": {},
   "outputs": [],
   "source": [
    "test_packet = sr1(IP(src=spoof_src_ip, dst=spoof_target)/UDP(sport=sport,dport=dport)/DNS())\n",
    "#test_packet[DNS].an"
   ]
  }
 ],
 "metadata": {
  "kernelspec": {
   "display_name": "Python 3 (ipykernel)",
   "language": "python",
   "name": "python3"
  },
  "language_info": {
   "codemirror_mode": {
    "name": "ipython",
    "version": 3
   },
   "file_extension": ".py",
   "mimetype": "text/x-python",
   "name": "python",
   "nbconvert_exporter": "python",
   "pygments_lexer": "ipython3",
   "version": "3.12.6"
  }
 },
 "nbformat": 4,
 "nbformat_minor": 5
}
