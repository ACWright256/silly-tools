{
 "cells": [
  {
   "cell_type": "code",
   "execution_count": 1,
   "id": "d7d6945a-4092-4551-b355-a9c4ae44d190",
   "metadata": {},
   "outputs": [],
   "source": [
    "import sys\n",
    "#from scapy.all import sr1, IP, ICMP, UDP, Ether\n",
    "from scapy.all import *"
   ]
  },
  {
   "cell_type": "code",
   "execution_count": 2,
   "id": "994a4a97-be47-4c61-9e49-f4da0241900e",
   "metadata": {},
   "outputs": [],
   "source": [
    "#CONSTANTS\n",
    "#ether layer\n",
    "src_mac=\"fe:ed:da:ba:bb:11\"\n",
    "dest_mac=\"9e:b6:3b:20:aa:78\"\n",
    "\n",
    "#ip layer\n",
    "spoof_src_ip=\"192.168.1.255\"\n",
    "spoof_target=\"192.168.1.196\"\n",
    "\n",
    "#udp layer\n",
    "sport=137\n",
    "dport=137"
   ]
  },
  {
   "cell_type": "code",
   "execution_count": 4,
   "id": "667668da-32e7-4fcb-b37d-7fd1dc6593a6",
   "metadata": {},
   "outputs": [
    {
     "name": "stdout",
     "output_type": "stream",
     "text": [
      "Begin emission\n",
      ".\n",
      "Finished sending 1 packets\n",
      "..\n",
      "Received 3 packets, got 0 answers, remaining 1 packets\n"
     ]
    }
   ],
   "source": [
    "testy=IP(src=spoof_src_ip, dst=spoof_target)/UDP(sport=sport,dport=dport)/DNS()\n",
    "test_packet = sr1(testy)\n",
    "#test_packet[DNS].an"
   ]
  },
  {
   "cell_type": "code",
   "execution_count": 5,
   "id": "c7e66386-5395-4f0c-8441-f72b7ad559ce",
   "metadata": {},
   "outputs": [
    {
     "data": {
      "text/plain": [
       "\"IP(src='192.168.1.255', dst='192.168.1.196')/UDP(sport=137, dport=137)/DNS(qd=[DNSQR()])\""
      ]
     },
     "execution_count": 5,
     "metadata": {},
     "output_type": "execute_result"
    }
   ],
   "source": [
    "testy.command()"
   ]
  },
  {
   "cell_type": "code",
   "execution_count": null,
   "id": "1a454f8a-a9db-4bcf-9f7a-ce411dc27e03",
   "metadata": {},
   "outputs": [],
   "source": []
  }
 ],
 "metadata": {
  "kernelspec": {
   "display_name": "Python 3 (ipykernel)",
   "language": "python",
   "name": "python3"
  },
  "language_info": {
   "codemirror_mode": {
    "name": "ipython",
    "version": 3
   },
   "file_extension": ".py",
   "mimetype": "text/x-python",
   "name": "python",
   "nbconvert_exporter": "python",
   "pygments_lexer": "ipython3",
   "version": "3.12.6"
  }
 },
 "nbformat": 4,
 "nbformat_minor": 5
}
