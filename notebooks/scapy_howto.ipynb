{
 "cells": [
  {
   "cell_type": "markdown",
   "id": "0e12b01d-b16b-49fd-8a4a-613b48499512",
   "metadata": {},
   "source": [
    "# Quick intro\n",
    "yo yo yo, how about dem packets, amirite? kids these days and their fancy gizmos and custom packet payloads. Can't we just go back to the good old days of S mines and dying in the trenches?\n",
    "\n",
    "no and here are a couple of useful things to note for using scapy.\n",
    "\n",
    "*also dont forget: jupyter notebook --allow-root"
   ]
  },
  {
   "cell_type": "code",
   "execution_count": 1,
   "id": "786b8888-73b5-487f-9ed1-47f202a542ae",
   "metadata": {},
   "outputs": [],
   "source": [
    "import sys\n",
    "#from scapy.all import sr1, IP, ICMP, UDP, Ether\n",
    "from scapy.all import *"
   ]
  },
  {
   "cell_type": "markdown",
   "id": "58ccd60a-b763-4a0f-8277-4d90c06e90f3",
   "metadata": {},
   "source": [
    "#### Packet stacking\n",
    "Choose different layers and yeet them together.\n",
    "Can choose ips and mac addresses and other things"
   ]
  },
  {
   "cell_type": "code",
   "execution_count": 2,
   "id": "d7dd7614-0117-4ee6-89c4-42a55329588a",
   "metadata": {},
   "outputs": [],
   "source": [
    "layer3_network = IP(dst=\"www.google.com\")\n",
    "layer4_transport = TCP(flags=\"F\")\n",
    "layer2_datalink = Ether()\n",
    "\n",
    "#fully stacked packet\n",
    "packet = layer2_datalink/layer3_network/layer4_transport"
   ]
  },
  {
   "cell_type": "code",
   "execution_count": 3,
   "id": "1423d354-ead5-4958-8a85-c1d7b7a891b4",
   "metadata": {},
   "outputs": [
    {
     "name": "stdout",
     "output_type": "stream",
     "text": [
      "dst        : DestMACField                        = None            ('None')\n",
      "src        : SourceMACField                      = '48:45:20:b6:ed:10' ('None')\n",
      "type       : XShortEnumField                     = 2048            ('36864')\n",
      "--\n",
      "version    : BitField  (4 bits)                  = 4               ('4')\n",
      "ihl        : BitField  (4 bits)                  = None            ('None')\n",
      "tos        : XByteField                          = 0               ('0')\n",
      "len        : ShortField                          = None            ('None')\n",
      "id         : ShortField                          = 1               ('1')\n",
      "flags      : FlagsField                          = <Flag 0 ()>     ('<Flag 0 ()>')\n",
      "frag       : BitField  (13 bits)                 = 0               ('0')\n",
      "ttl        : ByteField                           = 64              ('64')\n",
      "proto      : ByteEnumField                       = 6               ('0')\n",
      "chksum     : XShortField                         = None            ('None')\n",
      "src        : SourceIPField                       = '192.168.1.203' ('None')\n",
      "dst        : DestIPField                         = Net(\"www.google.com/32\") ('None')\n",
      "options    : PacketListField                     = []              ('[]')\n",
      "--\n",
      "sport      : ShortEnumField                      = 20              ('20')\n",
      "dport      : ShortEnumField                      = 80              ('80')\n",
      "seq        : IntField                            = 0               ('0')\n",
      "ack        : IntField                            = 0               ('0')\n",
      "dataofs    : BitField  (4 bits)                  = None            ('None')\n",
      "reserved   : BitField  (3 bits)                  = 0               ('0')\n",
      "flags      : FlagsField                          = <Flag 1 (F)>    ('<Flag 2 (S)>')\n",
      "window     : ShortField                          = 8192            ('8192')\n",
      "chksum     : XShortField                         = None            ('None')\n",
      "urgptr     : ShortField                          = 0               ('0')\n",
      "options    : TCPOptionsField                     = []              (\"b''\")\n"
     ]
    }
   ],
   "source": [
    "ls(packet,verbose = True) #look at da packet"
   ]
  },
  {
   "cell_type": "markdown",
   "id": "1a35da9c-dc48-42f5-ae3d-2e8922868e0d",
   "metadata": {},
   "source": [
    "#### Sending packets\n",
    "sr1() function to send packet and return a reply"
   ]
  },
  {
   "cell_type": "code",
   "execution_count": 9,
   "id": "5a89ce1a-9960-434a-963d-390a998adc74",
   "metadata": {},
   "outputs": [
    {
     "name": "stdout",
     "output_type": "stream",
     "text": [
      "Begin emission\n",
      ".\n",
      "Finished sending 1 packets\n",
      "\n",
      "Received 1 packets, got 0 answers, remaining 1 packets\n"
     ]
    }
   ],
   "source": [
    "test_packet = sr1(IP(dst=\"8.8.8.8\")/UDP()/DNS())\n",
    "#test_packet[DNS].anNBNSQueryRe"
   ]
  },
  {
   "cell_type": "code",
   "execution_count": 10,
   "id": "526996d5-76ff-41fc-9574-0051f8aa28ff",
   "metadata": {},
   "outputs": [
    {
     "ename": "AttributeError",
     "evalue": "'NoneType' object has no attribute 'command'",
     "output_type": "error",
     "traceback": [
      "\u001b[0;31m---------------------------------------------------------------------------\u001b[0m",
      "\u001b[0;31mAttributeError\u001b[0m                            Traceback (most recent call last)",
      "Cell \u001b[0;32mIn[10], line 1\u001b[0m\n\u001b[0;32m----> 1\u001b[0m \u001b[43mtest_packet\u001b[49m\u001b[38;5;241;43m.\u001b[39;49m\u001b[43mcommand\u001b[49m()\n",
      "\u001b[0;31mAttributeError\u001b[0m: 'NoneType' object has no attribute 'command'"
     ]
    }
   ],
   "source": []
  },
  {
   "cell_type": "code",
   "execution_count": null,
   "id": "a7709c3a-d872-4098-8657-dea61fa5bfc5",
   "metadata": {},
   "outputs": [],
   "source": []
  }
 ],
 "metadata": {
  "kernelspec": {
   "display_name": "Python 3 (ipykernel)",
   "language": "python",
   "name": "python3"
  },
  "language_info": {
   "codemirror_mode": {
    "name": "ipython",
    "version": 3
   },
   "file_extension": ".py",
   "mimetype": "text/x-python",
   "name": "python",
   "nbconvert_exporter": "python",
   "pygments_lexer": "ipython3",
   "version": "3.12.6"
  }
 },
 "nbformat": 4,
 "nbformat_minor": 5
}
